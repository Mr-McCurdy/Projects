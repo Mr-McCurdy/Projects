{
 "cells": [
  {
   "cell_type": "code",
   "execution_count": 1,
   "id": "9d862a38",
   "metadata": {},
   "outputs": [],
   "source": [
    "#Below are lists of Bitcoin's quarterly prices from 2014 to 2022.\n",
    "\n",
    "Bitcoin_2014 = [457.00, 639.80, 386.94, 320.19]\n",
    "Bitcoin_2015 = [244.22, 263.07, 236.06, 430.57]\n",
    "Bitcoin_2016 = [416.73, 673.34, 609.74, 963.74]\n",
    "Bitcoin_2017 = [1072, 2481, 4339, 14156]\n",
    "Bitcoin_2018 = [6954, 6398, 6619, 3767]\n",
    "Bitcoin_2019 = [4081, 10874, 8280, 7193]\n",
    "Bitcoin_2020 = [6435, 9142, 10754, 29033]\n",
    "Bitcoin_2021 = [58945, 34922, 43776, 46313]\n",
    "Bitcoin_2022 = [45573, 19709, 19423, 16536]"
   ]
  },
  {
   "cell_type": "code",
   "execution_count": 2,
   "id": "2018e37a",
   "metadata": {},
   "outputs": [
    {
     "name": "stdout",
     "output_type": "stream",
     "text": [
      "[  457.     639.8    386.94   320.19   244.22   263.07   236.06   430.57\n",
      "   416.73   673.34   609.74   963.74  1072.    2481.    4339.   14156.\n",
      "  6954.    6398.    6619.    3767.    4081.   10874.    8280.    7193.\n",
      "  6435.    9142.   10754.   29033.   58945.   34922.   43776.   46313.\n",
      " 45573.   19709.   19423.   16536.  ]\n",
      "11733.78888888889\n",
      "11733.78888888889 58945.0 236.06 58708.94\n"
     ]
    }
   ],
   "source": [
    "Bitcoin_2014to2022 = []\n",
    "\n",
    "for i in range(14,23):\n",
    "    for j in globals()['Bitcoin_20'+str(i)]:\n",
    "        Bitcoin_2014to2022.append(j)\n",
    "\n",
    "import numpy as np\n",
    "Bitcoin_2014to2022_Array = np.array(Bitcoin_2014to2022)\n",
    "print(Bitcoin_2014to2022_Array)\n",
    "print(Bitcoin_2014to2022_Array.mean())\n",
    "print(Bitcoin_2014to2022_Array.mean(), Bitcoin_2014to2022_Array.max(), Bitcoin_2014to2022_Array.min(),Bitcoin_2014to2022_Array.max() - Bitcoin_2014to2022_Array.min())"
   ]
  },
  {
   "cell_type": "code",
   "execution_count": 4,
   "id": "29d4d075",
   "metadata": {},
   "outputs": [
    {
     "name": "stdout",
     "output_type": "stream",
     "text": [
      "The average price of Bitcoin in 2014: 450.9825\n",
      "The average price of Bitcoin in 2015: 293.47999999999996\n",
      "The average price of Bitcoin in 2016: 665.8875\n",
      "The average price of Bitcoin in 2017: 5512.0\n",
      "The average price of Bitcoin in 2018: 5934.5\n",
      "The average price of Bitcoin in 2019: 7607.0\n",
      "The average price of Bitcoin in 2020: 13841.0\n",
      "The average price of Bitcoin in 2021: 45989.0\n",
      "The average price of Bitcoin in 2022: 25310.25\n",
      "4\n",
      "[[0. 0. 0. 0.]\n",
      " [0. 0. 0. 0.]\n",
      " [0. 0. 0. 0.]\n",
      " [0. 0. 0. 0.]\n",
      " [0. 0. 0. 0.]\n",
      " [0. 0. 0. 0.]\n",
      " [0. 0. 0. 0.]\n",
      " [0. 0. 0. 0.]\n",
      " [0. 0. 0. 0.]]\n",
      "\n",
      "Mean Price 2014: 450.9825\n",
      "Mean Price 2015: 293.47999999999996\n",
      "Mean Price 2016: 665.8875\n",
      "Mean Price 2017: 5512.0\n",
      "Mean Price 2018: 5934.5\n",
      "Mean Price 2019: 7607.0\n",
      "Mean Price 2020: 13841.0\n",
      "Mean Price 2021: 45989.0\n",
      "Mean Price 2022: 25310.25\n"
     ]
    }
   ],
   "source": [
    "#1. Find the average prices for each year (2014 to 2022) \n",
    "#   by converting all the lists into numpy arrays \n",
    "#   and using the average function.\n",
    "\n",
    "#Basic Solution\n",
    "import numpy as np\n",
    "\n",
    "BTC_Array_2014 = np.array(Bitcoin_2014)\n",
    "BTC_Array_2015 = np.array(Bitcoin_2015)\n",
    "BTC_Array_2016 = np.array(Bitcoin_2016)\n",
    "BTC_Array_2017 = np.array(Bitcoin_2017)\n",
    "BTC_Array_2018 = np.array(Bitcoin_2018)\n",
    "BTC_Array_2019 = np.array(Bitcoin_2019)\n",
    "BTC_Array_2020 = np.array(Bitcoin_2020)\n",
    "BTC_Array_2021 = np.array(Bitcoin_2021)\n",
    "BTC_Array_2022 = np.array(Bitcoin_2022)\n",
    "\n",
    "print(\"The average price of Bitcoin in 2014:\",BTC_Array_2014.mean())\n",
    "print(\"The average price of Bitcoin in 2015:\",BTC_Array_2015.mean())\n",
    "print(\"The average price of Bitcoin in 2016:\",BTC_Array_2016.mean())\n",
    "print(\"The average price of Bitcoin in 2017:\",BTC_Array_2017.mean())\n",
    "print(\"The average price of Bitcoin in 2018:\",BTC_Array_2018.mean())\n",
    "print(\"The average price of Bitcoin in 2019:\",BTC_Array_2019.mean())\n",
    "print(\"The average price of Bitcoin in 2020:\",BTC_Array_2020.mean())\n",
    "print(\"The average price of Bitcoin in 2021:\",BTC_Array_2021.mean())\n",
    "print(\"The average price of Bitcoin in 2022:\",BTC_Array_2022.mean())\n",
    "\n",
    "#A More Elegant Solution\n",
    "print(len(Bitcoin_2014))\n",
    "BTC = np.zeros(shape=(22-14+1, len(Bitcoin_2014)))\n",
    "\n",
    "print(BTC)\n",
    "print()\n",
    "\n",
    "for i in range(14,23):\n",
    "    BTC[i-14] = globals()['Bitcoin_20'+str(i)]\n",
    "\n",
    "for i in range(len(BTC)):\n",
    "    print(\"Mean Price 20\"+str(i+14)+':',BTC[i].mean())"
   ]
  },
  {
   "cell_type": "code",
   "execution_count": 77,
   "id": "78222b5d",
   "metadata": {},
   "outputs": [
    {
     "name": "stdout",
     "output_type": "stream",
     "text": [
      "Minimum Average Price of BTC: 293.47999999999996\n",
      "Maximum Average Price of BTC: 45989.0\n"
     ]
    }
   ],
   "source": [
    "#2. Create a new numpy array of the average yearly prices. \n",
    "#   Find the minimum average price and the maximum average price.\n",
    "\n",
    "BTC_MeanPrice = np.array([BTC_Array_2014.mean(), BTC_Array_2015.mean(), BTC_Array_2016.mean(), BTC_Array_2017.mean(), BTC_Array_2018.mean(), BTC_Array_2019.mean(), BTC_Array_2020.mean(), BTC_Array_2020.mean(), BTC_Array_2021.mean(), BTC_Array_2022.mean()])\n",
    "\n",
    "print(\"Minimum Average Price of BTC:\" ,BTC_MeanPrice.min())\n",
    "print(\"Maximum Average Price of BTC:\" ,BTC_MeanPrice.max())"
   ]
  },
  {
   "cell_type": "code",
   "execution_count": 79,
   "id": "c507e0ec",
   "metadata": {},
   "outputs": [
    {
     "name": "stdout",
     "output_type": "stream",
     "text": [
      "Quarters over 10000: 12\n",
      "Quarters over 20000: 6\n",
      "Quarters over 30000: 5\n",
      "Quarters under 4 figures: 12\n"
     ]
    }
   ],
   "source": [
    "#3. Find the overall minimum and maximum price of Bitcoin from 2014 to 2022. Calculate the difference.\n",
    "count_10000 = 0\n",
    "count_20000 = 0\n",
    "count_30000 = 0\n",
    "count_under4figs = 0 \n",
    "\n",
    "for i in range(len(BTC)):\n",
    "    for j in BTC[i]:\n",
    "        if j > 10000:\n",
    "            count_10000 += 1\n",
    "        if j > 20000:\n",
    "            count_20000 += 1\n",
    "        if j > 30000:\n",
    "            count_30000 += 1\n",
    "        if j < 1000:\n",
    "            count_under4figs += 1\n",
    "            \n",
    "print(\"Quarters over 10000:\",count_10000)\n",
    "print(\"Quarters over 20000:\",count_20000)\n",
    "print(\"Quarters over 30000:\",count_30000)\n",
    "print(\"Quarters under 4 figures:\",count_under4figs)"
   ]
  },
  {
   "cell_type": "code",
   "execution_count": 80,
   "id": "d118544c",
   "metadata": {},
   "outputs": [
    {
     "name": "stdout",
     "output_type": "stream",
     "text": [
      "Quarters over 10000: 12\n",
      "Quarters over 20000: 6\n",
      "Quarters over 30000: 5\n",
      "Quarters under 4 figures: 12\n"
     ]
    }
   ],
   "source": [
    "#5. We can use for to search through arrays like we used for lists. \n",
    "#   i. Write a program that searches through the list you made and counts\n",
    "#      the number of quarters Bitcoin closed over 10000, 20000, and 30000.\n",
    "#  ii. Included in the script for i., also count the number of quarters\n",
    "#      Bitcoin closed under 4 figures.\n",
    "\n",
    "count_10000 = 0\n",
    "count_20000 = 0\n",
    "count_30000 = 0\n",
    "count_under4figs = 0 \n",
    "\n",
    "for i in range(len(BTC)):\n",
    "    for j in BTC[i]:\n",
    "        if j > 10000:\n",
    "            count_10000 += 1\n",
    "        if j > 20000:\n",
    "            count_20000 += 1\n",
    "        if j > 30000:\n",
    "            count_30000 += 1\n",
    "        if j < 1000:\n",
    "            count_under4figs += 1\n",
    "            \n",
    "print(\"Quarters over 10000:\",count_10000)\n",
    "print(\"Quarters over 20000:\",count_20000)\n",
    "print(\"Quarters over 30000:\",count_30000)\n",
    "print(\"Quarters under 4 figures:\",count_under4figs)"
   ]
  },
  {
   "cell_type": "code",
   "execution_count": null,
   "id": "1b374989",
   "metadata": {},
   "outputs": [],
   "source": []
  }
 ],
 "metadata": {
  "kernelspec": {
   "display_name": "Python 3 (ipykernel)",
   "language": "python",
   "name": "python3"
  },
  "language_info": {
   "codemirror_mode": {
    "name": "ipython",
    "version": 3
   },
   "file_extension": ".py",
   "mimetype": "text/x-python",
   "name": "python",
   "nbconvert_exporter": "python",
   "pygments_lexer": "ipython3",
   "version": "3.9.13"
  }
 },
 "nbformat": 4,
 "nbformat_minor": 5
}
